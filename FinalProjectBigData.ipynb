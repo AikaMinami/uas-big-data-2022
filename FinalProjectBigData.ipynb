{
  "nbformat": 4,
  "nbformat_minor": 0,
  "metadata": {
    "colab": {
      "name": "FinalProjectBigData.ipynb",
      "provenance": [],
      "authorship_tag": "ABX9TyO181hbkmTg75I1aytshehQ",
      "include_colab_link": true
    },
    "kernelspec": {
      "name": "python3",
      "display_name": "Python 3"
    },
    "language_info": {
      "name": "python"
    }
  },
  "cells": [
    {
      "cell_type": "markdown",
      "metadata": {
        "id": "view-in-github",
        "colab_type": "text"
      },
      "source": [
        "<a href=\"https://colab.research.google.com/github/AikaMinami/uas-big-data-2022/blob/main/FinalProjectBigData.ipynb\" target=\"_parent\"><img src=\"https://colab.research.google.com/assets/colab-badge.svg\" alt=\"Open In Colab\"/></a>"
      ]
    },
    {
      "cell_type": "markdown",
      "source": [
        "# **Installing Java**"
      ],
      "metadata": {
        "id": "DgDuF1rmdD3h"
      }
    },
    {
      "cell_type": "code",
      "execution_count": 83,
      "metadata": {
        "id": "01L2FS-Gc5kX"
      },
      "outputs": [],
      "source": [
        "!apt-get install openjdk-8-jdk-headless -qq > /dev/null"
      ]
    },
    {
      "cell_type": "markdown",
      "source": [
        "# **Install Apache Spark**"
      ],
      "metadata": {
        "id": "Bse9NTdsdL4R"
      }
    },
    {
      "cell_type": "code",
      "source": [
        "!wget -q https://dlcdn.apache.org/spark/spark-3.2.1/spark-3.2.1-bin-hadoop3.2.tgz\n",
        "!tar xf spark-3.2.1-bin-hadoop3.2.tgz"
      ],
      "metadata": {
        "id": "0FoKH8bvdBoh"
      },
      "execution_count": 84,
      "outputs": []
    },
    {
      "cell_type": "markdown",
      "source": [
        "# **Install PySpark**"
      ],
      "metadata": {
        "id": "bxT58TKBdU7x"
      }
    },
    {
      "cell_type": "code",
      "source": [
        "!pip install -q findspark"
      ],
      "metadata": {
        "id": "XQwy5pMTdXKz"
      },
      "execution_count": null,
      "outputs": []
    },
    {
      "cell_type": "code",
      "source": [
        "import os\n",
        "os.environ[\"JAVA_HOME\"] = \"/usr/lib/jvm/java-8-openjdk-amd64\"\n",
        "os.environ[\"SPARK_HOME\"] = \"/content/spark-3.2.1-bin-hadoop3.2\""
      ],
      "metadata": {
        "id": "VvzDGagzdO7S"
      },
      "execution_count": 85,
      "outputs": []
    },
    {
      "cell_type": "code",
      "source": [
        "import findspark\n",
        "findspark.init()"
      ],
      "metadata": {
        "id": "aWwIazb4dSvY"
      },
      "execution_count": 86,
      "outputs": []
    },
    {
      "cell_type": "code",
      "source": [
        "from pyspark.sql import SparkSession\n",
        "spark = SparkSession.builder\\\n",
        " .master(\"local\")\\\n",
        " .appName(\"BDFP\")\\\n",
        " .config('spark.ui.port', '4050')\\\n",
        " .getOrCreate()"
      ],
      "metadata": {
        "id": "jjrmdLb9davB"
      },
      "execution_count": 87,
      "outputs": []
    },
    {
      "cell_type": "code",
      "source": [
        "!wget --continue https://data.nasa.gov/resource/2vr3-k9wn.json -O /tmp/comets.json"
      ],
      "metadata": {
        "colab": {
          "base_uri": "https://localhost:8080/"
        },
        "id": "fiPfyS_WdcrI",
        "outputId": "d714fd20-4c8d-4cca-a471-09feffaa18de"
      },
      "execution_count": 88,
      "outputs": [
        {
          "output_type": "stream",
          "name": "stdout",
          "text": [
            "--2022-06-29 06:42:33--  https://data.nasa.gov/resource/2vr3-k9wn.json\n",
            "Resolving data.nasa.gov (data.nasa.gov)... 128.102.186.77, 2001:4d0:6311:2c05:60b0:5ad8:1210:ea07\n",
            "Connecting to data.nasa.gov (data.nasa.gov)|128.102.186.77|:443... connected.\n",
            "HTTP request sent, awaiting response... 200 OK\n",
            "Length: unspecified [application/json]\n",
            "Saving to: ‘/tmp/comets.json’\n",
            "\n",
            "/tmp/comets.json        [ <=>                ]  40.61K  --.-KB/s    in 0.1s    \n",
            "\n",
            "2022-06-29 06:42:34 (315 KB/s) - ‘/tmp/comets.json’ saved [41585]\n",
            "\n"
          ]
        }
      ]
    },
    {
      "cell_type": "code",
      "source": [
        "df = spark.read.json(\"/tmp/comets.json\", multiLine=True)"
      ],
      "metadata": {
        "id": "GYiBqybkdjU5"
      },
      "execution_count": 89,
      "outputs": []
    },
    {
      "cell_type": "code",
      "source": [
        "df.printSchema()"
      ],
      "metadata": {
        "colab": {
          "base_uri": "https://localhost:8080/"
        },
        "id": "A8jFK6yOdp_B",
        "outputId": "c9bb1a4f-1ced-433b-c8fc-a8fb13270a98"
      },
      "execution_count": 90,
      "outputs": [
        {
          "output_type": "stream",
          "name": "stdout",
          "text": [
            "root\n",
            " |-- designation: string (nullable = true)\n",
            " |-- discovery_date: string (nullable = true)\n",
            " |-- h_mag: string (nullable = true)\n",
            " |-- i_deg: string (nullable = true)\n",
            " |-- moid_au: string (nullable = true)\n",
            " |-- orbit_class: string (nullable = true)\n",
            " |-- period_yr: string (nullable = true)\n",
            " |-- pha: string (nullable = true)\n",
            " |-- q_au_1: string (nullable = true)\n",
            " |-- q_au_2: string (nullable = true)\n",
            "\n"
          ]
        }
      ]
    },
    {
      "cell_type": "code",
      "source": [
        "df.show(4,False)"
      ],
      "metadata": {
        "colab": {
          "base_uri": "https://localhost:8080/"
        },
        "id": "8NLhNZwdduHS",
        "outputId": "f26c8563-e407-4fe9-f3db-0569b2839571"
      },
      "execution_count": 91,
      "outputs": [
        {
          "output_type": "stream",
          "name": "stdout",
          "text": [
            "+-------------------+-----------------------+-----+-----+-------+-----------+---------+---+------+------+\n",
            "|designation        |discovery_date         |h_mag|i_deg|moid_au|orbit_class|period_yr|pha|q_au_1|q_au_2|\n",
            "+-------------------+-----------------------+-----+-----+-------+-----------+---------+---+------+------+\n",
            "|419880 (2011 AH37) |2011-01-07T00:00:00.000|19.7 |9.65 |0.035  |Apollo     |4.06     |Y  |0.84  |4.26  |\n",
            "|419624 (2010 SO16) |2010-09-17T00:00:00.000|20.5 |14.52|0.028  |Apollo     |1        |Y  |0.93  |1.08  |\n",
            "|414772 (2010 OC103)|2010-07-28T00:00:00.000|19   |23.11|0.333  |Apollo     |1.31     |N  |0.39  |2     |\n",
            "|414746 (2010 EH20) |2010-03-06T00:00:00.000|18   |23.89|0.268  |Amor       |4.24     |N  |1.25  |3.99  |\n",
            "+-------------------+-----------------------+-----+-----+-------+-----------+---------+---+------+------+\n",
            "only showing top 4 rows\n",
            "\n"
          ]
        }
      ]
    },
    {
      "cell_type": "code",
      "source": [
        "df.count()"
      ],
      "metadata": {
        "colab": {
          "base_uri": "https://localhost:8080/"
        },
        "id": "YKJwRtA8dwRV",
        "outputId": "1e1353d8-5486-4e93-a60a-f87c0af8a979"
      },
      "execution_count": 92,
      "outputs": [
        {
          "output_type": "execute_result",
          "data": {
            "text/plain": [
              "202"
            ]
          },
          "metadata": {},
          "execution_count": 92
        }
      ]
    },
    {
      "cell_type": "code",
      "source": [
        "df.select(\"designation\", \"discovery_date\", \"orbit_class\").show(5)"
      ],
      "metadata": {
        "colab": {
          "base_uri": "https://localhost:8080/"
        },
        "id": "g_Ud5WsYdySg",
        "outputId": "7b908888-4d4c-4ea2-8095-74ea674e0cd8"
      },
      "execution_count": 93,
      "outputs": [
        {
          "output_type": "stream",
          "name": "stdout",
          "text": [
            "+-------------------+--------------------+-----------+\n",
            "|        designation|      discovery_date|orbit_class|\n",
            "+-------------------+--------------------+-----------+\n",
            "| 419880 (2011 AH37)|2011-01-07T00:00:...|     Apollo|\n",
            "| 419624 (2010 SO16)|2010-09-17T00:00:...|     Apollo|\n",
            "|414772 (2010 OC103)|2010-07-28T00:00:...|     Apollo|\n",
            "| 414746 (2010 EH20)|2010-03-06T00:00:...|       Amor|\n",
            "|407324 (2010 OB101)|2010-07-18T00:00:...|     Apollo|\n",
            "+-------------------+--------------------+-----------+\n",
            "only showing top 5 rows\n",
            "\n"
          ]
        }
      ]
    },
    {
      "cell_type": "code",
      "source": [
        "print(\"Is it Potentially Hazardous Asteroids?\")\n",
        "df.groupBy('pha').count().sort(df.pha).show()"
      ],
      "metadata": {
        "colab": {
          "base_uri": "https://localhost:8080/"
        },
        "outputId": "89f9c347-e964-4e57-8959-ef83e4f9988e",
        "id": "0Q6htYlREAnY"
      },
      "execution_count": 94,
      "outputs": [
        {
          "output_type": "stream",
          "name": "stdout",
          "text": [
            "Is it Potentially Hazardous Asteroids?\n",
            "+---+-----+\n",
            "|pha|count|\n",
            "+---+-----+\n",
            "|  N|  151|\n",
            "|  Y|   30|\n",
            "|n/a|   21|\n",
            "+---+-----+\n",
            "\n"
          ]
        }
      ]
    },
    {
      "cell_type": "code",
      "source": [
        "df_filtered = df.filter(\"pha == 'N' AND h_mag IS NOT NULL\")\n",
        "df_filtered.show(50, False)"
      ],
      "metadata": {
        "colab": {
          "base_uri": "https://localhost:8080/"
        },
        "id": "AHMLgag1d7xA",
        "outputId": "329c668f-9d5f-43c9-d3ee-6669a30296c4"
      },
      "execution_count": 95,
      "outputs": [
        {
          "output_type": "stream",
          "name": "stdout",
          "text": [
            "+-------------------+-----------------------+-----+-----+-------+-----------+---------+---+------+------+\n",
            "|designation        |discovery_date         |h_mag|i_deg|moid_au|orbit_class|period_yr|pha|q_au_1|q_au_2|\n",
            "+-------------------+-----------------------+-----+-----+-------+-----------+---------+---+------+------+\n",
            "|414772 (2010 OC103)|2010-07-28T00:00:00.000|19   |23.11|0.333  |Apollo     |1.31     |N  |0.39  |2     |\n",
            "|414746 (2010 EH20) |2010-03-06T00:00:00.000|18   |23.89|0.268  |Amor       |4.24     |N  |1.25  |3.99  |\n",
            "|407324 (2010 OB101)|2010-07-18T00:00:00.000|20.7 |9.12 |0.111  |Apollo     |2.06     |N  |0.77  |2.46  |\n",
            "|381989 (2010 HR80) |2010-04-28T00:00:00.000|19.9 |26.71|0.104  |Apollo     |1.56     |N  |0.68  |2.02  |\n",
            "|369454 (2010 NZ1)  |2010-07-09T00:00:00.000|19.4 |32.78|0.275  |Apollo     |1.61     |N  |0.49  |2.26  |\n",
            "|365449 (2010 NJ1)  |2010-07-03T00:00:00.000|20.3 |11.23|0.155  |Aten       |0.95     |N  |0.44  |1.49  |\n",
            "|356394 (2010 QD2)  |2010-08-21T00:00:00.000|17.4 |10.64|0.061  |Apollo     |2.85     |N  |0.43  |3.59  |\n",
            "|(2015 HF11)        |2015-04-17T00:00:00.000|19.2 |34.89|0.225  |Amor       |2.99     |N  |1.22  |2.93  |\n",
            "|(2015 GK50)        |2015-04-05T00:00:00.000|20.5 |19.07|0.237  |Amor       |5.39     |N  |1.03  |5.12  |\n",
            "|(2015 GJ46)        |2015-04-11T00:00:00.000|19.3 |18.22|0.238  |Apollo     |4.85     |N  |0.67  |5.06  |\n",
            "|(2015 FT344)       |2015-03-23T00:00:00.000|20.5 |12.55|0.203  |Amor       |4.07     |N  |1.09  |4.01  |\n",
            "|(2015 FD341)       |2015-03-27T00:00:00.000|18   |20.55|0.124  |Aten       |0.93     |N  |0.31  |1.6   |\n",
            "|(2015 FU332)       |2015-03-31T00:00:00.000|17.3 |36.11|0.269  |Apollo     |4.27     |N  |0.67  |4.59  |\n",
            "|(2015 FY117)       |2015-03-20T00:00:00.000|21.2 |24.33|0.15   |Amor       |2.87     |N  |1.14  |2.9   |\n",
            "|(2015 DX198)       |2015-02-17T00:00:00.000|22.1 |11.05|0.074  |Amor       |2.1      |N  |1.02  |2.25  |\n",
            "|(2015 BY516)       |2015-01-30T00:00:00.000|22.3 |12.71|0.139  |Apollo     |3.66     |N  |0.97  |3.77  |\n",
            "|(2015 AC17)        |2015-01-03T00:00:00.000|19.9 |29.25|0.238  |Amor       |3.39     |N  |1.22  |3.29  |\n",
            "|(2014 YR43)        |2014-12-26T00:00:00.000|19.5 |26.46|0.303  |Apollo     |3.92     |N  |0.97  |4     |\n",
            "|(2014 YS14)        |2014-12-24T00:00:00.000|21.1 |18.29|0.127  |Apollo     |3.87     |N  |0.84  |4.09  |\n",
            "|(2014 XX31)        |2014-12-11T00:00:00.000|17.5 |35.78|0.475  |Apollo     |4.73     |N  |0.36  |5.28  |\n",
            "|(2014 XX7)         |2014-12-10T00:00:00.000|19.7 |36.71|0.183  |Amor       |4.94     |N  |1.17  |4.64  |\n",
            "|(2014 XQ7)         |2014-12-06T00:00:00.000|20.6 |31.05|0.312  |Apollo     |4.32     |N  |0.66  |4.65  |\n",
            "|(2014 VP35)        |2014-11-14T00:00:00.000|23.3 |9.17 |0.026  |Apollo     |1.78     |N  |0.95  |1.98  |\n",
            "|(2014 UH210)       |2014-10-20T00:00:00.000|21.1 |22.06|0.099  |Apollo     |4.11     |N  |0.89  |4.25  |\n",
            "|(2014 UF206)       |2014-10-31T00:00:00.000|18.8 |48.05|0.136  |Amor       |3.78     |N  |1.11  |3.74  |\n",
            "|(2014 UG176)       |2014-10-25T00:00:00.000|21.5 |16.3 |0.16   |Apollo     |4.44     |N  |0.78  |4.62  |\n",
            "|(2014 TJ64)        |2014-10-07T00:00:00.000|21.2 |14.91|0.154  |Amor       |4.24     |N  |1.05  |4.19  |\n",
            "|(2014 TF64)        |2014-10-05T00:00:00.000|20.1 |52.66|0.131  |Apollo     |2.05     |N  |0.94  |2.29  |\n",
            "|(2014 TW57)        |2014-10-10T00:00:00.000|20.1 |6.75 |0.062  |Apollo     |3.21     |N  |0.57  |3.78  |\n",
            "|(2014 RH12)        |2014-09-03T00:00:00.000|23.5 |7.23 |0.045  |Apollo     |3.22     |N  |1.01  |3.35  |\n",
            "|(2014 QK433)       |2014-08-28T00:00:00.000|18.2 |39.22|0.18   |Amor       |5.16     |N  |1.19  |4.78  |\n",
            "|(2014 PP69)        |2014-08-05T00:00:00.000|20   |93.63|1.617  |Amor       |99.82    |N  |1.25  |41.78 |\n",
            "|(2014 PF68)        |2014-08-15T00:00:00.000|18.2 |22.75|0.17   |Amor       |4.81     |N  |1.17  |4.53  |\n",
            "|(2014 PC68)        |2014-08-08T00:00:00.000|20.4 |40.68|0.104  |Amor       |1.87     |N  |1.09  |1.95  |\n",
            "|(2014 OZ1)         |2014-07-20T00:00:00.000|21   |18   |0.231  |Amor       |2.24     |N  |1.08  |2.35  |\n",
            "|(2014 NM64)        |2014-07-11T00:00:00.000|22.6 |28.78|0.051  |Amor       |4.79     |N  |1.06  |4.62  |\n",
            "|(2014 NE64)        |2014-07-07T00:00:00.000|18.8 |41.63|0.39   |Amor       |3.06     |N  |1.2   |3.01  |\n",
            "|(2014 NC64)        |2014-07-13T00:00:00.000|20.2 |22.68|0.196  |Apollo     |3.23     |N  |0.8   |3.57  |\n",
            "|(2014 NF3)         |2014-07-01T00:00:00.000|20.8 |13.53|0.215  |Apollo     |1.48     |N  |0.66  |1.94  |\n",
            "|(2014 MQ18)        |2014-06-22T00:00:00.000|15.6 |35.09|0.192  |Amor       |4.93     |N  |1.16  |4.63  |\n",
            "|(2014 LQ25)        |2014-06-08T00:00:00.000|20   |33.57|0.099  |Apollo     |2.88     |N  |0.65  |3.39  |\n",
            "|(2014 JN57)        |2014-05-11T00:00:00.000|20.6 |28.59|0.051  |Amor       |1.39     |N  |1.03  |1.45  |\n",
            "|(2014 JH57)        |2014-05-10T00:00:00.000|16.2 |26.54|0.418  |Apollo     |6.13     |N  |0.43  |6.27  |\n",
            "|(2014 JL25)        |2014-05-04T00:00:00.000|23   |15.75|0.012  |Apollo     |4.94     |N  |1     |4.8   |\n",
            "|(2014 HJ129)       |2014-04-24T00:00:00.000|21.1 |8.44 |0.212  |Amor       |4.16     |N  |1.13  |4.04  |\n",
            "|(2014 EN45)        |2014-03-06T00:00:00.000|21.2 |14.03|0.156  |Amor       |3.82     |N  |1.06  |3.83  |\n",
            "|(2014 ED)          |2014-03-01T00:00:00.000|19.3 |21.77|0.365  |Apollo     |1.92     |N  |0.56  |2.53  |\n",
            "|(2014 CF14)        |2014-02-07T00:00:00.000|18.1 |29.41|0.149  |Apollo     |2.83     |N  |0.82  |3.17  |\n",
            "|(2014 BE63)        |2014-01-23T00:00:00.000|23.2 |8.59 |0.133  |Apollo     |3.08     |N  |0.75  |3.48  |\n",
            "|(2014 BG60)        |2014-01-25T00:00:00.000|20.1 |8.61 |0.227  |Amor       |5.27     |N  |1.17  |4.89  |\n",
            "+-------------------+-----------------------+-----+-----+-------+-----------+---------+---+------+------+\n",
            "only showing top 50 rows\n",
            "\n"
          ]
        }
      ]
    },
    {
      "cell_type": "code",
      "source": [
        "from pyspark.sql.functions import max\n",
        "\n",
        "maxValue = df_filtered.agg(max(\"period_yr\")).collect()[0][0]\n",
        "print(\"max Period Years: \",maxValue)\n",
        "df_filtered.select(\"designation\",\"period_yr\").filter(df_filtered.period_yr == maxValue).show(20, False)"
      ],
      "metadata": {
        "colab": {
          "base_uri": "https://localhost:8080/"
        },
        "id": "UhzvlZE2d9kp",
        "outputId": "e089c321-0428-4fd1-f1b2-9589dc2a5637"
      },
      "execution_count": 103,
      "outputs": [
        {
          "output_type": "stream",
          "name": "stdout",
          "text": [
            "max Period Years:  99.82\n",
            "+-----------+---------+\n",
            "|designation|period_yr|\n",
            "+-----------+---------+\n",
            "|(2014 PP69)|99.82    |\n",
            "+-----------+---------+\n",
            "\n"
          ]
        }
      ]
    },
    {
      "cell_type": "code",
      "source": [
        "from pyspark.sql.functions import min\n",
        "\n",
        "minValue = df_filtered.agg(min(\"period_yr\")).collect()[0][0]\n",
        "print(\"min Period Years: \",minValue)\n",
        "df_filtered.select(\"designation\",\"period_yr\").filter(df.period_yr== minValue).show(20, False)"
      ],
      "metadata": {
        "colab": {
          "base_uri": "https://localhost:8080/"
        },
        "id": "0ebumO3KeK17",
        "outputId": "15d6e7cb-7fb6-4b3c-adab-e9e33621b449"
      },
      "execution_count": 104,
      "outputs": [
        {
          "output_type": "stream",
          "name": "stdout",
          "text": [
            "min Period Years:  0.72\n",
            "+------------+---------+\n",
            "|designation |period_yr|\n",
            "+------------+---------+\n",
            "|(2010 HX107)|0.72     |\n",
            "+------------+---------+\n",
            "\n"
          ]
        }
      ]
    },
    {
      "cell_type": "code",
      "source": [
        "df_filtered.groupBy('h_mag').count().sort(df_filtered.h_mag).show()"
      ],
      "metadata": {
        "colab": {
          "base_uri": "https://localhost:8080/"
        },
        "id": "4eQVIs9yirWa",
        "outputId": "1cacc537-58d3-4669-c192-445033f7110d"
      },
      "execution_count": 106,
      "outputs": [
        {
          "output_type": "stream",
          "name": "stdout",
          "text": [
            "+-----+-----+\n",
            "|h_mag|count|\n",
            "+-----+-----+\n",
            "| 15.6|    1|\n",
            "| 16.2|    1|\n",
            "|   17|    1|\n",
            "| 17.2|    3|\n",
            "| 17.3|    1|\n",
            "| 17.4|    1|\n",
            "| 17.5|    1|\n",
            "| 17.7|    1|\n",
            "|   18|    2|\n",
            "| 18.1|    1|\n",
            "| 18.2|    2|\n",
            "| 18.3|    3|\n",
            "| 18.5|    1|\n",
            "| 18.7|    3|\n",
            "| 18.8|    3|\n",
            "|   19|    2|\n",
            "| 19.1|    3|\n",
            "| 19.2|    5|\n",
            "| 19.3|    3|\n",
            "| 19.4|    5|\n",
            "+-----+-----+\n",
            "only showing top 20 rows\n",
            "\n"
          ]
        }
      ]
    },
    {
      "cell_type": "code",
      "source": [
        "df.groupBy('orbit_class').agg(max(\"moid_au\")).sort(df.orbit_class).show()"
      ],
      "metadata": {
        "id": "Qb_fko97i7o8",
        "colab": {
          "base_uri": "https://localhost:8080/"
        },
        "outputId": "6567f922-8f14-488a-891a-a34006b0b3a0"
      },
      "execution_count": 99,
      "outputs": [
        {
          "output_type": "stream",
          "name": "stdout",
          "text": [
            "+--------------------+------------+\n",
            "|         orbit_class|max(moid_au)|\n",
            "+--------------------+------------+\n",
            "|                Amor|       1.617|\n",
            "|              Apollo|       0.703|\n",
            "|                Aten|       0.316|\n",
            "|               Comet|       6.373|\n",
            "|    Encke-type Comet|        0.63|\n",
            "|  Halley-type Comet*|       0.828|\n",
            "|Jupiter-family Comet|       1.683|\n",
            "|Jupiter-family Co...|       2.945|\n",
            "|     Parabolic Comet|       1.546|\n",
            "+--------------------+------------+\n",
            "\n"
          ]
        }
      ]
    },
    {
      "cell_type": "code",
      "source": [
        ""
      ],
      "metadata": {
        "id": "GC4U3jf9IjzD"
      },
      "execution_count": null,
      "outputs": []
    }
  ]
}